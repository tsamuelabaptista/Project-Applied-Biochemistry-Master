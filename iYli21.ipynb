{
 "cells": [
  {
   "cell_type": "markdown",
   "id": "e7d72c98-0602-4839-b805-afb47fd14b49",
   "metadata": {},
   "source": [
    "Notebook summary: \n",
    "\n",
    "Yarrowia lipolytica was reported to successfully grow on leucine as the sole source of carbon (https://doi.org/10.1016/j.csbj.2022.05.018). This notebook aims to test if the model iYli21 is able to predict growth of Y. lipolytica on leucine as the sole source of carbon, but also nitrogen."
   ]
  },
  {
   "cell_type": "markdown",
   "id": "50aeb20f-7e14-4a32-acce-ee166d19003d",
   "metadata": {},
   "source": [
    "## iYli21 Model (Y. lipolytica Model for W29 strain)\n",
    "https://github.com/SysBioChalmers/Yarrowia_lipolytica_W29-GEM\n",
    "\n",
    "https://doi.org/10.1016/j.csbj.2022.05.018"
   ]
  },
  {
   "cell_type": "markdown",
   "id": "00f4e7d9-a296-462e-a83a-5adf39a5ada9",
   "metadata": {},
   "source": [
    "Load model:"
   ]
  },
  {
   "cell_type": "code",
   "execution_count": null,
   "id": "0f4ac9b9-00f0-4c8a-8f8e-d6b51d3b761f",
   "metadata": {
    "tags": []
   },
   "outputs": [],
   "source": [
    "from cobra.io import read_sbml_model   \n",
    "model = read_sbml_model('iYli21.xml')"
   ]
  },
  {
   "cell_type": "markdown",
   "id": "23b7266a-a3f1-4bbe-92b0-3f11de080b74",
   "metadata": {},
   "source": [
    "Check model information:"
   ]
  },
  {
   "cell_type": "code",
   "execution_count": null,
   "id": "7311a2b9-16a5-46e4-b674-90b3f4f21bb0",
   "metadata": {},
   "outputs": [],
   "source": [
    "model"
   ]
  },
  {
   "cell_type": "markdown",
   "id": "80ed3e41-682f-49ac-b0e2-bdaad07e3d5a",
   "metadata": {},
   "source": [
    "Check the list of reactions to obtain reactions ID:"
   ]
  },
  {
   "cell_type": "code",
   "execution_count": null,
   "id": "82b8b8fe-5ea2-4800-abfd-540a42c7b029",
   "metadata": {},
   "outputs": [],
   "source": [
    "for reaction in model.reactions:\n",
    "    print(reaction.id, \"|\", reaction.name, \"|\", reaction.lower_bound, \"|\", reaction.upper_bound)"
   ]
  },
  {
   "cell_type": "markdown",
   "id": "e362410f-d74e-4a04-a16e-fe2a9691033e",
   "metadata": {},
   "source": [
    "Check if the objective function/expression is set to maximize biomass production:"
   ]
  },
  {
   "cell_type": "code",
   "execution_count": null,
   "id": "4fb6a56a-f15e-4ccf-bd7c-5fce0b92639f",
   "metadata": {},
   "outputs": [],
   "source": [
    "print(\"Model Objective:\", model.objective)"
   ]
  },
  {
   "cell_type": "markdown",
   "id": "adc6b23b-3424-42a6-987b-d5cbe89f779b",
   "metadata": {},
   "source": [
    "Checking model summary allows to obtain the objective value and the rate (flux) of both uptake and secretion of metabolites:"
   ]
  },
  {
   "cell_type": "code",
   "execution_count": null,
   "id": "3b4235f7-75fd-4b65-a431-d95eb429b6e8",
   "metadata": {},
   "outputs": [],
   "source": [
    "model.summary()"
   ]
  },
  {
   "cell_type": "markdown",
   "id": "c5430afd-956b-4bf7-8605-5d664afe9e02",
   "metadata": {},
   "source": [
    "Checking model medium allows to see the metabolites present in the medium:\n",
    "\n",
    "The medium is set by default for the consumption of glucose at an uptake rate of 2.43 mmol/gDW/h in aerobic conditions.\n",
    "\n",
    "Reactions ID:\n",
    "\n",
    "R1070: D-glucose exchange\n",
    "\n",
    "R1287: oxygen exchange"
   ]
  },
  {
   "cell_type": "code",
   "execution_count": null,
   "id": "1903c365-3307-4bba-89d0-edee5f00bafb",
   "metadata": {},
   "outputs": [],
   "source": [
    "model.medium"
   ]
  },
  {
   "cell_type": "markdown",
   "id": "06bf49e8-8358-4b8d-9cf2-9c08d7adf0c3",
   "metadata": {},
   "source": [
    "We want leucine as the sole source of carbon and nitrogen so we need to eliminate D-glucose and ammonium from the medium, the sources of carbon and nitrogen, respectively, and add leucine to the medium at an uptake rate of 2.43 (value defined for the uptake rate of the model iYli21 in https://doi.org/10.1016/j.csbj.2022.05.018).\n",
    "\n",
    "Reactions ID:\n",
    "\n",
    "R1070: D-glucose exchange\n",
    "\n",
    "R1016: ammonium exchange\n",
    "\n",
    "R1219: L-leucine exchange"
   ]
  },
  {
   "cell_type": "code",
   "execution_count": null,
   "id": "8dda7aaf-6533-4be3-af4d-4822753f7070",
   "metadata": {},
   "outputs": [],
   "source": [
    "medium = model.medium\n",
    "medium[\"R1070\"] = 0.0\n",
    "medium[\"R1016\"] = 0.0\n",
    "medium[\"R1219\"] = 2.43\n",
    "model.medium = medium\n",
    "\n",
    "model.medium"
   ]
  },
  {
   "cell_type": "markdown",
   "id": "af160cbe-6cb1-41f4-a2fd-16d74f13f345",
   "metadata": {},
   "source": [
    "Perform FBA to obtain the objective value that corresponds to the predicted biomass i.e. predicted growth:"
   ]
  },
  {
   "cell_type": "code",
   "execution_count": null,
   "id": "07e130c4-793e-436f-9ffc-c2f5a800a318",
   "metadata": {},
   "outputs": [],
   "source": [
    "print(model.optimize())"
   ]
  },
  {
   "cell_type": "markdown",
   "id": "89f7d1e4-6591-49ad-8815-ad68b21e89b0",
   "metadata": {},
   "source": [
    "With the model summary we can confirm that both D-glucose and ammonium uptake was replaced by L-leucine uptake:"
   ]
  },
  {
   "cell_type": "code",
   "execution_count": null,
   "id": "d7680532-fbe2-4c0b-8914-5fb95b5e3c17",
   "metadata": {},
   "outputs": [],
   "source": [
    "model.summary()"
   ]
  },
  {
   "cell_type": "markdown",
   "id": "469c12d4-0cb4-4bbb-acea-9a6fa3fae04a",
   "metadata": {},
   "source": [
    "We obtained a biomass value of 0.256 which confirms that iYli21 model is able to predict growth of Y. lipolytica with leucine as the sole source of carbon and nitrogen."
   ]
  }
 ],
 "metadata": {
  "kernelspec": {
   "display_name": "Python 3 (ipykernel)",
   "language": "python",
   "name": "python3"
  },
  "language_info": {
   "codemirror_mode": {
    "name": "ipython",
    "version": 3
   },
   "file_extension": ".py",
   "mimetype": "text/x-python",
   "name": "python",
   "nbconvert_exporter": "python",
   "pygments_lexer": "ipython3",
   "version": "3.9.13"
  }
 },
 "nbformat": 4,
 "nbformat_minor": 5
}
