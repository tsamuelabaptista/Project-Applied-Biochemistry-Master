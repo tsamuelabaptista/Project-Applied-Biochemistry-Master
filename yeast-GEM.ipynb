{
 "cells": [
  {
   "cell_type": "markdown",
   "id": "43bb3aaa-831a-4858-8558-a3b3da9017c6",
   "metadata": {},
   "source": [
    "Notebook summary:\n",
    "\n",
    "The yeast-GEM model (consensus model of S. cerevisiae) was used as a control for the iYli21 model. It is known that S. cerevisiae is not able to grow on medium with leucine as the sole source of carbon and nitrogen, thus it is expected to see no growth under these conditions with this model."
   ]
  },
  {
   "cell_type": "markdown",
   "id": "d9927706-f98c-41d2-bc99-deee8283ca6f",
   "metadata": {
    "tags": []
   },
   "source": [
    "## yeast-GEM Model (S. cerevisiae consensus model)\n",
    "https://github.com/SysBioChalmers/yeast-GEM"
   ]
  },
  {
   "cell_type": "markdown",
   "id": "c28d1cda-a1e0-470b-8bf8-5cbda9f2f84e",
   "metadata": {},
   "source": [
    "Load model:"
   ]
  },
  {
   "cell_type": "code",
   "execution_count": null,
   "id": "5d340091-648e-47a0-a2ca-70ed07efbe08",
   "metadata": {
    "tags": []
   },
   "outputs": [],
   "source": [
    "from cobra.io import read_sbml_model   \n",
    "model = read_sbml_model('yeast-GEM.xml')"
   ]
  },
  {
   "cell_type": "markdown",
   "id": "733d0101-4086-436d-a561-81fd642e2af5",
   "metadata": {},
   "source": [
    "Check model information:"
   ]
  },
  {
   "cell_type": "code",
   "execution_count": null,
   "id": "156e3d21-3360-4d34-b1d9-1b49bf5a65f6",
   "metadata": {},
   "outputs": [],
   "source": [
    "model"
   ]
  },
  {
   "cell_type": "markdown",
   "id": "4e19afda-4e91-426e-a212-cd483094817e",
   "metadata": {},
   "source": [
    "Check the list of reactions to obtain reactions ID:"
   ]
  },
  {
   "cell_type": "code",
   "execution_count": null,
   "id": "8ed97f8b-4914-46a4-b0de-dff3eb2fc7a5",
   "metadata": {},
   "outputs": [],
   "source": [
    "for reaction in model.reactions:\n",
    "    print(reaction.id, \"|\", reaction.name, \"|\", reaction.lower_bound, \"|\", reaction.upper_bound)"
   ]
  },
  {
   "cell_type": "markdown",
   "id": "b5cd1f55-2da1-498f-a2ff-a12c8789bbbb",
   "metadata": {},
   "source": [
    "Check if the objective function/expression is set to maximize biomass production:"
   ]
  },
  {
   "cell_type": "code",
   "execution_count": null,
   "id": "8e721f40-a566-4eee-a610-e98316a855f8",
   "metadata": {},
   "outputs": [],
   "source": [
    "print(\"Model Objective:\", model.objective)"
   ]
  },
  {
   "cell_type": "markdown",
   "id": "6f58ea3d-114d-4d12-956b-3ffdb1146c90",
   "metadata": {},
   "source": [
    "\"r_2111\" is the reaction ID for growth."
   ]
  },
  {
   "cell_type": "markdown",
   "id": "f09f4639-b4db-42cc-bd2d-58904fee0b3d",
   "metadata": {},
   "source": [
    "Checking model summary allows to obtain the objective value and the rate (flux) of both uptake and secretion of metabolites:"
   ]
  },
  {
   "cell_type": "code",
   "execution_count": null,
   "id": "5ea952cd-549f-4db8-b41c-e25c5e5707dd",
   "metadata": {},
   "outputs": [],
   "source": [
    "model.summary()"
   ]
  },
  {
   "cell_type": "markdown",
   "id": "6948f8bd-cc33-4a18-8673-94220ff2b4d3",
   "metadata": {},
   "source": [
    "Checking model medium allows to see the metabolites present in the medium: \n",
    "\n",
    "The medium is set by default for the consumption of glucose at an uptake of 1.0 mmol/gDW/h in aerobic conditions.\n",
    "\n",
    "Reactions ID:\n",
    "\n",
    "r_1714: D-glucose exchange\n",
    "\n",
    "r_1992: oxygen exchange"
   ]
  },
  {
   "cell_type": "code",
   "execution_count": null,
   "id": "0db722ed-3227-476f-b95a-b499fced0699",
   "metadata": {},
   "outputs": [],
   "source": [
    "model.medium"
   ]
  },
  {
   "cell_type": "markdown",
   "id": "cf291197-5978-47ba-99aa-dc4863c65819",
   "metadata": {},
   "source": [
    "We want leucine as the sole source of carbon and nitrogen so we need to eliminate D-glucose and ammonium from the medium, the sources of carbon and nitrogen, respectively, and add leucine to the medium at an uptake rate of 2.43 (value defined for the uptake rate of the model iYli21 in https://doi.org/10.1016/j.csbj.2022.05.018). To compare the objective values of both models it is important to establish the same leucine uptake rate.\n",
    "\n",
    "Reactions ID:\n",
    "\n",
    "r_1714: D-glucose exchange\n",
    "\n",
    "r_1654: ammonium exchange\n",
    "\n",
    "r_1899: L-leucine exchange"
   ]
  },
  {
   "cell_type": "code",
   "execution_count": null,
   "id": "22594c66-35c6-4c82-9179-183f2d83729b",
   "metadata": {},
   "outputs": [],
   "source": [
    "medium = model.medium\n",
    "medium[\"r_1714\"] = 0.0\n",
    "medium[\"r_1654\"] = 0.0\n",
    "medium[\"r_1899\"] = 2.43\n",
    "model.medium = medium\n",
    "\n",
    "model.medium"
   ]
  },
  {
   "cell_type": "markdown",
   "id": "8b681a79-e528-45f5-9140-a419e50c4c59",
   "metadata": {},
   "source": [
    "Perform FBA to obtain the objective value that corresponds to the predicted biomass i.e. predicted growth:"
   ]
  },
  {
   "cell_type": "code",
   "execution_count": null,
   "id": "53affb02-cc1c-489e-b054-2978c446cb18",
   "metadata": {},
   "outputs": [],
   "source": [
    "print(model.optimize())"
   ]
  },
  {
   "cell_type": "markdown",
   "id": "6cf99a50-4fce-435a-8fa1-56a8e6bf2ea5",
   "metadata": {},
   "source": [
    "With the model summary we can confirm that both D-glucose and ammonium uptake was replaced by L-leucine uptake:"
   ]
  },
  {
   "cell_type": "code",
   "execution_count": null,
   "id": "26f3eaaa-29e1-4973-968c-fd67365453e2",
   "metadata": {},
   "outputs": [],
   "source": [
    "model.summary()"
   ]
  },
  {
   "cell_type": "markdown",
   "id": "9f7919a7-25ed-461f-af46-960fe071731f",
   "metadata": {},
   "source": [
    "We obtained a biomass value of 0.000 which confirms that yeast-GEM model is able to predict no growth of S. cerevisiae with leucine as the sole source of carbon and nitrogen."
   ]
  }
 ],
 "metadata": {
  "kernelspec": {
   "display_name": "Python 3 (ipykernel)",
   "language": "python",
   "name": "python3"
  },
  "language_info": {
   "codemirror_mode": {
    "name": "ipython",
    "version": 3
   },
   "file_extension": ".py",
   "mimetype": "text/x-python",
   "name": "python",
   "nbconvert_exporter": "python",
   "pygments_lexer": "ipython3",
   "version": "3.9.13"
  }
 },
 "nbformat": 4,
 "nbformat_minor": 5
}
